{
  "nbformat": 4,
  "nbformat_minor": 0,
  "metadata": {
    "colab": {
      "name": "テクニカルライティング_補助資料 (赤池情報量基準について).ipynb",
      "provenance": [],
      "collapsed_sections": [],
      "toc_visible": true,
      "authorship_tag": "ABX9TyOeEhN/+4dnuiukoT1DMTQi",
      "include_colab_link": true
    },
    "kernelspec": {
      "name": "python3",
      "display_name": "Python 3"
    },
    "language_info": {
      "name": "python"
    }
  },
  "cells": [
    {
      "cell_type": "markdown",
      "metadata": {
        "id": "view-in-github",
        "colab_type": "text"
      },
      "source": [
        "<a href=\"https://colab.research.google.com/github/yasuhiroinoue/StudentExperiment/blob/main/%E3%83%86%E3%82%AF%E3%83%8B%E3%82%AB%E3%83%AB%E3%83%A9%E3%82%A4%E3%83%86%E3%82%A3%E3%83%B3%E3%82%B0_%E8%A3%9C%E5%8A%A9%E8%B3%87%E6%96%99_(%E8%B5%A4%E6%B1%A0%E6%83%85%E5%A0%B1%E9%87%8F%E5%9F%BA%E6%BA%96%E3%81%AB%E3%81%A4%E3%81%84%E3%81%A6).ipynb\" target=\"_parent\"><img src=\"https://colab.research.google.com/assets/colab-badge.svg\" alt=\"Open In Colab\"/></a>"
      ]
    },
    {
      "cell_type": "markdown",
      "metadata": {
        "id": "RGeEVJ5EDDIo"
      },
      "source": [
        "##**学生実験１（テクニカルライティング補助資料)**##"
      ]
    },
    {
      "cell_type": "markdown",
      "metadata": {
        "id": "ky3yIq1mDKhI"
      },
      "source": [
        "###**モデル評価の基準**###\n",
        "観測データは、様々な原因で誤差を含む。いっそのこと、観測値とは、ある確率分布に従う確率変数の実現値と考えることにしよう。この真の確率分布を近似する確率分布（モデル）を求めたとき、それがどの程度“良いのか”をどのような視点で評価すれば良いか？"
      ]
    },
    {
      "cell_type": "markdown",
      "metadata": {
        "id": "Zt0FruwaE53G"
      },
      "source": [
        "##**Kullback-Leibler Divergence (カルバック・ライブラー ダイバージェンス)**##\n",
        "Kullback-Leiblerダイバージェンス(以後、KLダイバージェンス)$D_{KL}(p||q)$は、一方の確率分布$q$が他方の確率分布$p$からどれほど異なるかを表す量である。\n",
        "$$D_{KL}(p||q)=\\sum_ip_i\\log\\frac{p_i}{q_i}$$\n",
        "$D_{KL}(p||q)$は非負値を取ることを次のように証明できる。\n",
        "$x>0$に対して、$\\log x \\leq x - 1$であるから\n",
        "$$D_{KL}(p||q)=\\sum_ip_i\\log\\frac{p_i}{q_i}=-\\sum_ip_i\\log\\frac{q_i}{p_i} \\geq -\\sum_ip_i(\\frac{q_i}{p_i}-1)=0$$\n",
        "となる。等号成立は、$p_i=q_i$に限られる。このように非負値であるが、距離の公理は満たさないので、決して、カルバック・ライブラー「距離」と**呼んではいけない**。"
      ]
    },
    {
      "cell_type": "markdown",
      "metadata": {
        "id": "6D9D5sLcKYHs"
      },
      "source": [
        "###**対数尤度**###\n",
        "いま、$p$を真の分布、$q$をモデル分布としよう。\n",
        "$D_{KL}(p||q)\\geq 0$より\n",
        "$$\\sum_i p_i\\log p_i \\geq \\sum_i p_i \\log q_i$$となる。\n",
        "両辺ともに、真の分布$p$による期待値計算の形をしているので、\n",
        "$$E[\\log p] \\geq E[\\log q] \\tag{1}$$\n",
        "と書こう。$E[\\cdot]$は真の分布$p$による期待値である。\n",
        "\n",
        "ここで、$l(q) = \\sum_i \\log q_i$を対数尤度といい、$E[\\log q]$を**平均対数尤度**という。\n",
        "\n",
        "この不等式から、平均対数尤度の上限値は、$E[\\log p]$である。\n",
        "したがって、平均対数尤度が大きければ大きいほど、モデル分布$q$は真の分布に近いことを表す。\n",
        "\n",
        "$n$個の観測データが得られたときの対数尤度の$1/n$倍は、$n\\rightarrow \\infty$で$$\\frac{1}{n}\\sum_{j=1}^n\\log{q(x_j)}=\\sum_i \\frac{n_i}{n}\\log{q_i}\\rightarrow E[\\log q]$$となる。（大数の法則）\n",
        "\n",
        "極限を取る前の等式において、左辺から右辺に式変形するときに、事象$x_j$の和から状態$i$の和に変えているので、良く見ること。\n",
        "（例：サイコロを振る実験で、データindex=1でサイコロの目=3、index=2でサイコロの目=4のように記録順で和を取るのが左辺、サイコロの目=1は$n_1$回でしたと和を取るのが右辺）"
      ]
    },
    {
      "cell_type": "markdown",
      "metadata": {
        "id": "NG_LsN6CZJ-c"
      },
      "source": [
        "###**例題**###\n",
        "A君とB君は、阪神 対 巨人における阪神の勝率を予想した。A君は、2割だという。B君は、4割だという。\n",
        "\n",
        "阪神の勝率の真値が3割とすると、A君とB君のどちらの予想がより正しいと言えるのか？\n",
        "\n",
        "対数尤度で考えなさい。\n",
        "\n",
        "###**例題解答**###\n"
      ]
    },
    {
      "cell_type": "code",
      "metadata": {
        "colab": {
          "base_uri": "https://localhost:8080/"
        },
        "id": "THgoFLxnY4Vm",
        "outputId": "a048f732-64d6-462c-a699-696651b1aad8"
      },
      "source": [
        "%matplotlib inline\n",
        "import numpy as np\n",
        "import matplotlib.pyplot as plt\n",
        "\n",
        "p = 0.3\n",
        "q_A = 0.2\n",
        "q_B = 0.4\n",
        "l_A = p*np.log(q_A)+(1-p)*np.log(1-q_A)\n",
        "l_B = p*np.log(q_B)+(1-p)*np.log(1-q_B)\n",
        "\n",
        "if l_A > l_B:\n",
        "  print('A君')\n",
        "elif l_A < l_B:\n",
        "  print('B君')\n",
        "else:\n",
        "  print('どっちもどっち')"
      ],
      "execution_count": null,
      "outputs": [
        {
          "output_type": "stream",
          "name": "stdout",
          "text": [
            "B君\n"
          ]
        }
      ]
    },
    {
      "cell_type": "markdown",
      "metadata": {
        "id": "eb1Q6jlfci3y"
      },
      "source": [
        "###**演習**###\n",
        "\n",
        "阪神の勝率の真値は誰にも分からないので、実際のデータをもとに考えよう。2020年においては、阪神 対 巨人は阪神8勝、巨人16勝であった。A君とB君のどちらの予想のほうが正しかったと言えそうか。\n",
        "（参考データ[NPB](https://npb.jp/bis/2020/stats/std_c.html)）\n"
      ]
    },
    {
      "cell_type": "code",
      "metadata": {
        "id": "Zo1IjHoPcoP5"
      },
      "source": [
        "##ここに演習解答しなさい##"
      ],
      "execution_count": null,
      "outputs": []
    },
    {
      "cell_type": "markdown",
      "metadata": {
        "id": "sZh74SF6h2-u"
      },
      "source": [
        "##***最尤法***##\n",
        "式(1)は、対数尤度が大きければ大きいほど、モデル分布は真の分布に近づくことを表していた。そこで、対数尤度を最大化すると、真の分布に近似的にもっとも近い分布が得られそうだ。\n",
        "\n",
        "いま、確率変数$(X_1, X_2, \\cdots, X_n)$の同時確率密度関数が$f(x_1,\\cdots,x_n|\\theta)$で与えられているとする。$\\theta$は同時確率密度関数のパラメータである（平均値や分散）。観測データ($x_1,\\cdots,x_n$)は与えられたものとして固定し、$f$を$\\theta$の関数と考えるのが尤度$L(\\theta|\\{x_i\\})$である。\n",
        "$$L(\\theta|\\{x_i\\})=f(x_1,\\cdots,x_n|\\theta)$$\n",
        "確率変数が独立の場合は、各密度関数の掛算となるので\n",
        "$$L(\\theta|\\{x_i\\})=\\prod_i f(x_i|\\theta)$$\n",
        "上式の対数を取ると、すでに求めた対数尤度の式が再び得られる。\n",
        "$$\\log L(\\theta|\\{x_i\\})=\\sum_i\\log f(x_i|\\theta)\\tag{2}$$\n",
        "\n",
        "最尤法は、対数尤度を最大化するようにパラメータ$\\theta$を決める手法で、以下の尤度方程式の解として、最尤推定値$\\hat \\theta$を決定する。\n",
        "$$\\frac{\\partial \\log L}{\\partial \\theta}=0$$\n",
        "\n",
        "\n",
        "###**例（2項分布）**###\n",
        "コインが1枚あり、10回なげたところ、(表, 表, 裏, 表, 表, 裏, 裏, 表, 表, 表）と出た。コインの表が出る確率$\\theta$とする。尤度$L$は\n",
        "$$L(\\theta)=\\theta^7(1-\\theta)^3$$\n",
        "であるから\n",
        "$$\\frac{\\partial \\log L}{\\partial \\theta}=\\frac{7}{\\theta}+\\frac{3}{1-\\theta}=0$$より、$$\\hat \\theta = 7/10$$ですね。\n",
        "\n",
        "###**例（正規分布）**###\n",
        "$$f(x|\\mu, \\sigma^2)=\\frac{1}{\\sqrt{2\\pi \\sigma^2}}\\exp{(-\\frac{(x-\\mu)^2}{2\\sigma^2})}$$\n",
        "$$\\log L = -\\frac{n}{2}\\log{2\\pi\\sigma^2}-\\frac{1}{2\\sigma^2}\\sum_{i=1}^n(x_i-\\mu)^2\\tag{3}$$\n",
        "となる。尤度方程式より\n",
        "$$\\frac{\\partial \\log L}{\\partial \\mu} =\\frac{1}{\\sigma^2}\\sum_i(x_i-\\mu)=0$$\n",
        "$$\\frac{\\partial \\log L}{\\partial \\sigma^2} =-\\frac{n}{2\\sigma^2}+\\frac{1}{2\\sigma^4}\\sum_i(x_i-\\mu)^2=0$$\n",
        "となるので\n",
        "$$\\hat\\mu=\\frac{1}{n}\\sum_{i=1}^nx_i$$\n",
        "$$\\hat \\sigma^2 = \\frac{1}{n}\\sum_{i=1}^n(x_i-\\mu)^2$$\n",
        "が得られる。\n",
        "\n",
        "なお、ここから最小二乗法と呼ばれる手法との関係が見えてくる。式(3)の右辺第2項目は二乗誤差となっているので、最小二乗法は、誤差分布が正規分布と仮定したときの最尤法と見なすことができる。逆に言えば、誤差分布が正規分布でないものに、最小二乗法を適用した場合には、得られたモデルの使い方には注意しよう。\n",
        "\n"
      ]
    },
    {
      "cell_type": "markdown",
      "metadata": {
        "id": "hWL7kYlK2XwT"
      },
      "source": [
        "###**演習**###\n",
        "[NPB](https://npb.jp/bis/2020/stats/std_c.html)のデータを用いて、球団の勝利・敗北・引分の確率を最尤法で推定しなさい。\n",
        "\n",
        "\n"
      ]
    },
    {
      "cell_type": "markdown",
      "metadata": {
        "id": "AsX5SHt6aNJ7"
      },
      "source": [
        "###**未知データに対するモデルの当てはまりの良さ**##\n",
        "真の分布から生成される標本をある時点で得て、これに対して最尤モデルを作ったとする。この最尤モデルが、将来に得られるデータに対して、どれほど良いモデルとなっているのか？（予測・説明可能か）\n",
        "\n",
        "その良さの評価（モデル選択の基準）として、最尤モデルの平均対数尤度を考えよう。これは、最尤モデルを作った時点よりあとに得られるだろうデータも含めて評価することに相当する。\n",
        "\n",
        "実は、最尤モデルを作ったときに得られる最大対数尤度の期待値をとっても、平均対数尤度とは一致しない。\n",
        "\n",
        "最大対数尤度は、得られたデータに対して、最大化しているので、まだ得られていないデータも含む平均対数尤度より、値が大きく出やすい。この傾向（偏り）は、モデルのパラメータ数に比例する。\n",
        "\n",
        "実際に、真の分布が正規分布だと分かっている状況で、最尤法を行い、最大対数尤度と平均対数尤度の関係を見てみよう。"
      ]
    },
    {
      "cell_type": "markdown",
      "metadata": {
        "id": "YBtYXU6Zv-Ng"
      },
      "source": [
        "###**数値実験（最大対数尤度と平均対数尤度）**###\n",
        "次のコードを動かし、最大対数尤度と平均対数尤度の差(バイアス)を、モデルのパラメータの数$k$に対してプロットしてみよう。\n",
        "\n",
        "#####**前提**#####\n",
        "生成されるデータの確率密度関数は正規分布であるとすると\n",
        "例（正規分布）の性質から、最小二乗法を使って、最尤推定が行える。\n",
        "$n$個のデータ点$(x_i, y_i)$において、$x$は確定値のデータセットで、確率変数$Y$が値$y$を取るとしよう。このとき、$Y$の確率密度関数は、平均$\\mu=\\mu(x|\\theta^*)$, 分散$\\sigma^2$の正規分布とする。分散は既知とする。\n",
        "\n",
        "\n",
        "#####**アルゴリズムの概略**#####\n",
        "最初に得られたデータを用いて、最小二乗法により、$m$次の多項式$y=f_m(x|\\theta)$における最尤推定量$\\hat \\theta$を求め、最大対数尤度の計算を行う。\n",
        "次に、$Y$の真の確率分布から新たにsample個のデータを生成して、これらを用いて、平均対数尤度を計算する。\n",
        "モデルの自由なパラメータの数は多項式の係数の個数$k=m+1$となる。\n",
        "\n",
        "以上の操作をsys_sample人の試験者が独立に行い、\n",
        "sys_sample個の最大対数尤度と平均対数尤度から、それぞれ平均を求める。\n",
        "$\\rightarrow$最大対数尤度の期待値、平均対数尤度の期待値"
      ]
    },
    {
      "cell_type": "code",
      "metadata": {
        "id": "Yv9r9kSGZ3j6",
        "colab": {
          "base_uri": "https://localhost:8080/",
          "height": 636
        },
        "outputId": "72e05d8a-2305-45b2-bdc8-8c52b7187ec8"
      },
      "source": [
        "##このコードの実行には8分50秒ほどかかる\n",
        "## sys_sample, sampleの数を増やせば増やすほど、真の確率分布での期待値に近づく\n",
        "\n",
        "## 分散は既知とする\n",
        "import numpy as np\n",
        "from matplotlib import pyplot as plt\n",
        "\n",
        "### 真の分布の準備 ###\n",
        "## Standard Deviation = sigma ##\n",
        "sigma=3\n",
        "\n",
        "## バイアス評価のための配列: インデックスは多項式の次数 ##\n",
        "m_size = 16\n",
        "bias = np.zeros(m_size)\n",
        "l_star = np.zeros(m_size)\n",
        "l_ensb = np.zeros(m_size)\n",
        "\n",
        "## 平均値の関数 ##\n",
        "#y = 3x**5 + 4x**4 - x**3 + x**2 - x + 1\n",
        "p=np.poly1d( np.array([3, 4, -1, 1, -1, 1]) )\n",
        "x=np.arange(-2,1,0.1)\n",
        "plt.plot(x,p(x), label=\"mu=3x^5+4x^4-x^3+x^2-x+1\")\n",
        "plt.legend()\n",
        "\n",
        "# 最大対数尤度の平均を求めるサンプル数\n",
        "sys_sample = 50\n",
        "\n",
        "for item in range(0,sys_sample):\n",
        "\n",
        "  ## 初回のフィッティング用のデータ生成 ##\n",
        "  ## モデル選択の意味から、次数kに対して共通にしておく \n",
        "  y=np.zeros(x.shape[0])\n",
        "  i=0\n",
        "  ## 正規分布 ##\n",
        "  for xi in x:\n",
        "    y[i]=np.random.normal(p(xi),sigma,1)\n",
        "    i+=1\n",
        "\n",
        "  ## 平均対数尤度の計算のためのサンプル数 ##\n",
        "  sample = 500\n",
        "\n",
        "  ## 次数 ##\n",
        "  ## m_ini <= m < m_ini+m_size\n",
        "  m_ini = 3\n",
        "  for m in range(m_ini,m_ini+m_size):\n",
        "    ## 最大対数尤度 ##\n",
        "    l_max_k = 0.0\n",
        "\n",
        "    ## 平均対数尤度 ##\n",
        "    l_mean = 0.0\n",
        "\n",
        "    ## n=0 (初回のフィッティング結果の最尤値を求める)\n",
        "    ## フィッティング ##\n",
        "    a=np.polyfit(x, y, m)\n",
        "    q=np.poly1d(a)\n",
        "\n",
        "    ## 最大対数尤度 計算 ##\n",
        "    l_max = 0.0\n",
        "    i=0\n",
        "    for xi in x:\n",
        "      l_max -= (y[i]-q(xi))**2/(2.0*sigma**2)#-n/2*log(2pi*sigma**2)は平均対数尤度との差を取るときに消えるので最初から計算しません。\n",
        "      i+=1\n",
        "\n",
        "    l_max_k = l_max\n",
        "\n",
        "    for n in range(0,sample):\n",
        "      ## フィッティング用のデータ生成 ##\n",
        "      z=np.zeros(x.shape[0])\n",
        "      i=0\n",
        "      for xi in x:\n",
        "        z[i]=np.random.normal(p(xi),sigma,1)\n",
        "        i+=1\n",
        "      \n",
        "    #  plt.scatter(x,z)\n",
        "      ## 平均対数尤度 計算 ##\n",
        "      l_max = 0.0\n",
        "      i=0\n",
        "      for xi in x:\n",
        "        l_max -= (z[i]-q(xi))**2/(2.0*sigma**2)\n",
        "        i+=1\n",
        "      l_mean += l_max\n",
        "\n",
        "    l_mean /= sample\n",
        "\n",
        "    l_star[m-m_ini] += l_max_k\n",
        "    l_ensb[m-m_ini] += l_mean\n",
        "    bias[m-m_ini] +=(l_max_k - l_mean)\n",
        "  \n",
        "for i in range(0,m_size):\n",
        "  l_star[i] /= sys_sample\n",
        "  l_ensb[i] /= sys_sample\n",
        "  bias[i] /= sys_sample\n",
        "\n",
        "## 図の描画 ##\n",
        "##モデルの自由パラメータの数はk=(m+1)個\n",
        "\n",
        "k=np.arange(m_ini+1,m_ini+m_size+1)\n",
        "fig = plt.figure(figsize=(16,6))\n",
        "ax1 = fig.add_subplot(1,2,1)\n",
        "ax1.set_xlabel(\"k\")\n",
        "ax1.plot(k,l_star, label=\"Maximum log-likelihood\")\n",
        "ax1.plot(k,l_ensb, label=\"Mean log-likelihood\")\n",
        "ax1.legend()\n",
        "\n",
        "ax2 = fig.add_subplot(1,2,2)\n",
        "ax2.set_xlabel(\"k\")\n",
        "ax2.set_ylabel(\"bias\")\n",
        "ax2.scatter(k,bias)\n",
        "ax2.plot(k,k,label=\"bias = k\")\n",
        "ax2.legend()\n",
        "fig.show()\n"
      ],
      "execution_count": null,
      "outputs": [
        {
          "output_type": "display_data",
          "data": {
            "image/png": "[encoded data removed]",
            "text/plain": [
              "<Figure size 432x288 with 1 Axes>"
            ]
          },
          "metadata": {
            "needs_background": "light"
          }
        },
        {
          "output_type": "display_data",
          "data": {
            "image/png": "[encoded data removed]",
            "text/plain": [
              "<Figure size 1152x432 with 2 Axes>"
            ]
          },
          "metadata": {
            "needs_background": "light"
          }
        }
      ]
    },
    {
      "cell_type": "markdown",
      "metadata": {
        "id": "ey8exGjoZyjg"
      },
      "source": [
        "###**数値実験の結果**###\n",
        "数値実験の結果から、\n",
        "$$(最尤モデルの平均対数尤度)=(最大対数尤度)-(モデルの自由パラメータの数)\\tag{4}$$\n",
        "となりそうだ。\n",
        "\n",
        "平均対数尤度の期待値は、今あるデータで得られる最大対数尤度の期待値と一致しない。\n",
        "モデルのパラメータの数を上げると、最大対数尤度は増加するが、平均対数尤度の期待値は必ずしも増加しない。\n",
        "\n",
        "平均対数尤度は、将来に得られる無限個のデータも含めての尤度であるから、良いモデルの選択は、平均対数尤度で評価しなければならない。\n",
        "今回の場合、平均対数尤度は、$k=6$でピークを持つ。パラメータの数は6個（5次多項式）が良いということだ。今回は、事前に設定した多項式と同じパラメータの数のモデルを選択するのが良さそうだ。しかし、いつも真のパラメータの数と一致するとは限らない。観測値にゆらぎが含まれるので、平均対数尤度の最大を与えるパラメータの数は、本来の数よりも少なくなる傾向がある。\n",
        "一方、もし、最大対数尤度でモデル選択をするのなら$k=18$を選んでしまうかもしれない。\n",
        "\n",
        "問題は、本来、真の確率分布を知らないので、平均対数尤度を知りえないことである。\n",
        "では、どうすれば良いのか？\n",
        "\n",
        "数値実験の結果を整理した関係式(4)は、最大対数尤度からモデルパラメータの数を引くことで、モデルの平均対数尤度の期待値が得られることを示している。\n",
        "\n",
        "この関係式を使えば、モデルの良さを評価できそうだ。"
      ]
    },
    {
      "cell_type": "markdown",
      "metadata": {
        "id": "zB80DPHLmEc-"
      },
      "source": [
        "##**AIC (Akaike Information Criterion)**#\n",
        "最大対数尤度$\\log L$、自由パラメータの数$k$とし\n",
        "$$AIC = -2\\log L + 2k$$\n",
        "を定義する。\n",
        "先の数値実験で得られた関係式を$-2$倍した式となる。\n",
        "したがって、AICが最小となるモデルを選択すれば、多くの場合、良いモデル選択となる。\n",
        "AICを**赤池情報量基準(Akaike Information Criterion）**という。\n",
        "\n",
        "特に、例(正規分布)で示したように、誤差が正規分布のときには、分散の最尤推定量$\\hat \\sigma^2$を用いて\n",
        "$$AIC = n\\log{2\\pi\\hat\\sigma^2}+n+2k\\tag{3}$$\n",
        "となる。\n",
        "\n",
        "注意点として、数値実験で行ったような1次元の多項式回帰モデルを作るときには、$m$次の多項式なら、$(m+1)$個の係数がある。加えて、分散も最尤推定量になるので$+1$個となり、自由パラメータの数$k=m+2$となる。（数値実験では分散に真値を与えていたので$k=m+1$）\n",
        "\n",
        "AICの理論的な定義については、[大学院講義「応用数理科学」](https://github.com/yasuhiroinoue/AppMathSci/blob/main/%E5%BF%9C%E7%94%A8%E6%95%B0%E7%90%86(2021_11_15).ipynb)の資料を参照ください。"
      ]
    }
  ]
}